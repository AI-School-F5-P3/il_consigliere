{
 "cells": [
  {
   "cell_type": "markdown",
   "metadata": {},
   "source": [
    "# Elimina los archivos nulos"
   ]
  },
  {
   "cell_type": "code",
   "execution_count": null,
   "metadata": {
    "vscode": {
     "languageId": "plaintext"
    }
   },
   "outputs": [],
   "source": [
    "import pandas as pd\n",
    "import re\n",
    "\n",
    "# Cargar archivo movie.csv (asegúrate de subir el archivo en Colab)\n",
    "input_file = \"tag.csv\"  # Nombre del archivo subido\n",
    "output_file = \"tag_ok.csv\"  # Nombre del archivo de salida\n",
    "\n",
    "# Cargar el archivo en un DataFrame de pandas\n",
    "tags = pd.read_csv(input_file)\n",
    "print(len(tags))\n",
    "\n",
    "tags = tags.dropna()\n",
    "print(len(tags))\n",
    "\n",
    "\n",
    "# Guardar el resultado en un nuevo archivo CSV\n",
    "tags.to_csv(output_file, index=False)\n",
    "\n",
    "print(f\"Archivo procesado guardado como {output_file}\")"
   ]
  }
 ],
 "metadata": {
  "language_info": {
   "name": "python"
  }
 },
 "nbformat": 4,
 "nbformat_minor": 2
}
