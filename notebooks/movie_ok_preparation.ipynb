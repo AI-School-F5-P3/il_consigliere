{
 "cells": [
  {
   "cell_type": "markdown",
   "metadata": {},
   "source": [
    "# Quita el año del título y hace una lista con los géneros"
   ]
  },
  {
   "cell_type": "code",
   "execution_count": null,
   "metadata": {
    "vscode": {
     "languageId": "plaintext"
    }
   },
   "outputs": [],
   "source": [
    "import pandas as pd\n",
    "import re\n",
    "\n",
    "# Cargar archivo movie.csv (asegúrate de subir el archivo en Colab)\n",
    "input_file = \"movie.csv\"  # Nombre del archivo subido\n",
    "output_file = \"movie_ok.csv\"  # Nombre del archivo de salida\n",
    "\n",
    "# Cargar el archivo en un DataFrame de pandas\n",
    "movies = pd.read_csv(input_file)\n",
    "\n",
    "# Eliminar el año del título\n",
    "movies['title'] = movies['title'].str.replace(r'\\(\\d{4}\\)', '', regex=True).str.strip()\n",
    "\n",
    "# Convertir géneros a una lista\n",
    "movies['genres'] = movies['genres'].apply(lambda x: x.split('|') if isinstance(x, str) else [])\n",
    "\n",
    "# Guardar el resultado en un nuevo archivo CSV\n",
    "movies.to_csv(output_file, index=False)\n",
    "\n",
    "print(f\"Archivo procesado guardado como {output_file}\")"
   ]
  }
 ],
 "metadata": {
  "language_info": {
   "name": "python"
  }
 },
 "nbformat": 4,
 "nbformat_minor": 2
}
